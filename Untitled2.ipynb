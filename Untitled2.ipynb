{
 "cells": [
  {
   "cell_type": "code",
   "execution_count": 1,
   "metadata": {},
   "outputs": [],
   "source": [
    "import pandas as pd\n",
    "import numpy as np"
   ]
  },
  {
   "cell_type": "code",
   "execution_count": 2,
   "metadata": {},
   "outputs": [],
   "source": [
    "df=pd.read_csv('train.csv')"
   ]
  },
  {
   "cell_type": "code",
   "execution_count": 3,
   "metadata": {},
   "outputs": [
    {
     "data": {
      "text/html": [
       "<div>\n",
       "<style scoped>\n",
       "    .dataframe tbody tr th:only-of-type {\n",
       "        vertical-align: middle;\n",
       "    }\n",
       "\n",
       "    .dataframe tbody tr th {\n",
       "        vertical-align: top;\n",
       "    }\n",
       "\n",
       "    .dataframe thead th {\n",
       "        text-align: right;\n",
       "    }\n",
       "</style>\n",
       "<table border=\"1\" class=\"dataframe\">\n",
       "  <thead>\n",
       "    <tr style=\"text-align: right;\">\n",
       "      <th></th>\n",
       "      <th>clientid_cr</th>\n",
       "      <th>algo_cr</th>\n",
       "      <th>pubclientid_cr</th>\n",
       "      <th>siteId_cr</th>\n",
       "      <th>goalid_cr</th>\n",
       "      <th>ispDimId_cr</th>\n",
       "      <th>osVerDimId_cr</th>\n",
       "      <th>conversion_fraud</th>\n",
       "    </tr>\n",
       "  </thead>\n",
       "  <tbody>\n",
       "    <tr>\n",
       "      <th>0</th>\n",
       "      <td>75694</td>\n",
       "      <td>38</td>\n",
       "      <td>2320</td>\n",
       "      <td>34</td>\n",
       "      <td>6384</td>\n",
       "      <td>280429</td>\n",
       "      <td>199452</td>\n",
       "      <td>1</td>\n",
       "    </tr>\n",
       "    <tr>\n",
       "      <th>1</th>\n",
       "      <td>75694</td>\n",
       "      <td>38</td>\n",
       "      <td>15240</td>\n",
       "      <td>178</td>\n",
       "      <td>6384</td>\n",
       "      <td>136127</td>\n",
       "      <td>199452</td>\n",
       "      <td>1</td>\n",
       "    </tr>\n",
       "    <tr>\n",
       "      <th>2</th>\n",
       "      <td>75694</td>\n",
       "      <td>21</td>\n",
       "      <td>2320</td>\n",
       "      <td>34</td>\n",
       "      <td>6384</td>\n",
       "      <td>172725</td>\n",
       "      <td>199452</td>\n",
       "      <td>1</td>\n",
       "    </tr>\n",
       "    <tr>\n",
       "      <th>3</th>\n",
       "      <td>75694</td>\n",
       "      <td>38</td>\n",
       "      <td>2320</td>\n",
       "      <td>34</td>\n",
       "      <td>6384</td>\n",
       "      <td>136127</td>\n",
       "      <td>199452</td>\n",
       "      <td>1</td>\n",
       "    </tr>\n",
       "    <tr>\n",
       "      <th>4</th>\n",
       "      <td>30431</td>\n",
       "      <td>21</td>\n",
       "      <td>1</td>\n",
       "      <td>3296</td>\n",
       "      <td>3370</td>\n",
       "      <td>136127</td>\n",
       "      <td>360833</td>\n",
       "      <td>1</td>\n",
       "    </tr>\n",
       "  </tbody>\n",
       "</table>\n",
       "</div>"
      ],
      "text/plain": [
       "   clientid_cr  algo_cr  pubclientid_cr  siteId_cr  goalid_cr  ispDimId_cr  \\\n",
       "0        75694       38            2320         34       6384       280429   \n",
       "1        75694       38           15240        178       6384       136127   \n",
       "2        75694       21            2320         34       6384       172725   \n",
       "3        75694       38            2320         34       6384       136127   \n",
       "4        30431       21               1       3296       3370       136127   \n",
       "\n",
       "   osVerDimId_cr  conversion_fraud  \n",
       "0         199452                 1  \n",
       "1         199452                 1  \n",
       "2         199452                 1  \n",
       "3         199452                 1  \n",
       "4         360833                 1  "
      ]
     },
     "execution_count": 3,
     "metadata": {},
     "output_type": "execute_result"
    }
   ],
   "source": [
    "df.head()"
   ]
  },
  {
   "cell_type": "code",
   "execution_count": 4,
   "metadata": {},
   "outputs": [],
   "source": [
    "clm=df.columns"
   ]
  },
  {
   "cell_type": "code",
   "execution_count": 5,
   "metadata": {},
   "outputs": [
    {
     "data": {
      "text/plain": [
       "Index(['clientid_cr', 'algo_cr', 'pubclientid_cr', 'siteId_cr', 'goalid_cr',\n",
       "       'ispDimId_cr', 'osVerDimId_cr', 'conversion_fraud'],\n",
       "      dtype='object')"
      ]
     },
     "execution_count": 5,
     "metadata": {},
     "output_type": "execute_result"
    }
   ],
   "source": [
    "clm"
   ]
  },
  {
   "cell_type": "code",
   "execution_count": 13,
   "metadata": {},
   "outputs": [],
   "source": [
    "df1=df[clm[0:7]]\n",
    "df1['sums']=df.sum(axis=1)\n"
   ]
  },
  {
   "cell_type": "code",
   "execution_count": 14,
   "metadata": {},
   "outputs": [
    {
     "data": {
      "text/html": [
       "<div>\n",
       "<style scoped>\n",
       "    .dataframe tbody tr th:only-of-type {\n",
       "        vertical-align: middle;\n",
       "    }\n",
       "\n",
       "    .dataframe tbody tr th {\n",
       "        vertical-align: top;\n",
       "    }\n",
       "\n",
       "    .dataframe thead th {\n",
       "        text-align: right;\n",
       "    }\n",
       "</style>\n",
       "<table border=\"1\" class=\"dataframe\">\n",
       "  <thead>\n",
       "    <tr style=\"text-align: right;\">\n",
       "      <th></th>\n",
       "      <th>clientid_cr</th>\n",
       "      <th>algo_cr</th>\n",
       "      <th>pubclientid_cr</th>\n",
       "      <th>siteId_cr</th>\n",
       "      <th>goalid_cr</th>\n",
       "      <th>ispDimId_cr</th>\n",
       "      <th>osVerDimId_cr</th>\n",
       "      <th>sums</th>\n",
       "    </tr>\n",
       "  </thead>\n",
       "  <tbody>\n",
       "    <tr>\n",
       "      <th>0</th>\n",
       "      <td>75694</td>\n",
       "      <td>38</td>\n",
       "      <td>2320</td>\n",
       "      <td>34</td>\n",
       "      <td>6384</td>\n",
       "      <td>280429</td>\n",
       "      <td>199452</td>\n",
       "      <td>564352</td>\n",
       "    </tr>\n",
       "    <tr>\n",
       "      <th>1</th>\n",
       "      <td>75694</td>\n",
       "      <td>38</td>\n",
       "      <td>15240</td>\n",
       "      <td>178</td>\n",
       "      <td>6384</td>\n",
       "      <td>136127</td>\n",
       "      <td>199452</td>\n",
       "      <td>433114</td>\n",
       "    </tr>\n",
       "    <tr>\n",
       "      <th>2</th>\n",
       "      <td>75694</td>\n",
       "      <td>21</td>\n",
       "      <td>2320</td>\n",
       "      <td>34</td>\n",
       "      <td>6384</td>\n",
       "      <td>172725</td>\n",
       "      <td>199452</td>\n",
       "      <td>456631</td>\n",
       "    </tr>\n",
       "    <tr>\n",
       "      <th>3</th>\n",
       "      <td>75694</td>\n",
       "      <td>38</td>\n",
       "      <td>2320</td>\n",
       "      <td>34</td>\n",
       "      <td>6384</td>\n",
       "      <td>136127</td>\n",
       "      <td>199452</td>\n",
       "      <td>420050</td>\n",
       "    </tr>\n",
       "    <tr>\n",
       "      <th>4</th>\n",
       "      <td>30431</td>\n",
       "      <td>21</td>\n",
       "      <td>1</td>\n",
       "      <td>3296</td>\n",
       "      <td>3370</td>\n",
       "      <td>136127</td>\n",
       "      <td>360833</td>\n",
       "      <td>534080</td>\n",
       "    </tr>\n",
       "  </tbody>\n",
       "</table>\n",
       "</div>"
      ],
      "text/plain": [
       "   clientid_cr  algo_cr  pubclientid_cr  siteId_cr  goalid_cr  ispDimId_cr  \\\n",
       "0        75694       38            2320         34       6384       280429   \n",
       "1        75694       38           15240        178       6384       136127   \n",
       "2        75694       21            2320         34       6384       172725   \n",
       "3        75694       38            2320         34       6384       136127   \n",
       "4        30431       21               1       3296       3370       136127   \n",
       "\n",
       "   osVerDimId_cr    sums  \n",
       "0         199452  564352  \n",
       "1         199452  433114  \n",
       "2         199452  456631  \n",
       "3         199452  420050  \n",
       "4         360833  534080  "
      ]
     },
     "execution_count": 14,
     "metadata": {},
     "output_type": "execute_result"
    }
   ],
   "source": [
    "df1.head()"
   ]
  },
  {
   "cell_type": "code",
   "execution_count": 21,
   "metadata": {},
   "outputs": [
    {
     "data": {
      "text/plain": [
       "724"
      ]
     },
     "execution_count": 21,
     "metadata": {},
     "output_type": "execute_result"
    }
   ],
   "source": [
    "pd.set_option('display.max_rows',None)\n",
    "df1['sums'].value_counts().sum()"
   ]
  },
  {
   "cell_type": "code",
   "execution_count": null,
   "metadata": {},
   "outputs": [],
   "source": []
  }
 ],
 "metadata": {
  "kernelspec": {
   "display_name": "Python 3",
   "language": "python",
   "name": "python3"
  },
  "language_info": {
   "codemirror_mode": {
    "name": "ipython",
    "version": 3
   },
   "file_extension": ".py",
   "mimetype": "text/x-python",
   "name": "python",
   "nbconvert_exporter": "python",
   "pygments_lexer": "ipython3",
   "version": "3.7.4"
  }
 },
 "nbformat": 4,
 "nbformat_minor": 4
}
